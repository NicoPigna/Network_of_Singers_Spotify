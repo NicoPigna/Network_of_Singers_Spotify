{
  "nbformat": 4,
  "nbformat_minor": 0,
  "metadata": {
    "colab": {
      "provenance": [],
      "gpuType": "T4"
    },
    "kernelspec": {
      "name": "python3",
      "display_name": "Python 3"
    },
    "language_info": {
      "name": "python"
    },
    "widgets": {
      "application/vnd.jupyter.widget-state+json": {
        "d40e0145e4414d72a114801b9d9722fe": {
          "model_module": "@jupyter-widgets/controls",
          "model_name": "HBoxModel",
          "model_module_version": "1.5.0",
          "state": {
            "_dom_classes": [],
            "_model_module": "@jupyter-widgets/controls",
            "_model_module_version": "1.5.0",
            "_model_name": "HBoxModel",
            "_view_count": null,
            "_view_module": "@jupyter-widgets/controls",
            "_view_module_version": "1.5.0",
            "_view_name": "HBoxView",
            "box_style": "",
            "children": [
              "IPY_MODEL_8e9f3c6dd2124ce989260e12e53730a2",
              "IPY_MODEL_00c0a5f2bbd84dc0a288f4452b4334bf",
              "IPY_MODEL_3a697a2c70f242daa9de7beb5bb6ab85"
            ],
            "layout": "IPY_MODEL_74851d8eb79c497bbe4d0f5f43a1ac06"
          }
        },
        "8e9f3c6dd2124ce989260e12e53730a2": {
          "model_module": "@jupyter-widgets/controls",
          "model_name": "HTMLModel",
          "model_module_version": "1.5.0",
          "state": {
            "_dom_classes": [],
            "_model_module": "@jupyter-widgets/controls",
            "_model_module_version": "1.5.0",
            "_model_name": "HTMLModel",
            "_view_count": null,
            "_view_module": "@jupyter-widgets/controls",
            "_view_module_version": "1.5.0",
            "_view_name": "HTMLView",
            "description": "",
            "description_tooltip": null,
            "layout": "IPY_MODEL_6715c12c0ee44297847f3e6765a41d29",
            "placeholder": "​",
            "style": "IPY_MODEL_8d18215457b1421d838765596e712400",
            "value": "Computing transition probabilities: 100%"
          }
        },
        "00c0a5f2bbd84dc0a288f4452b4334bf": {
          "model_module": "@jupyter-widgets/controls",
          "model_name": "FloatProgressModel",
          "model_module_version": "1.5.0",
          "state": {
            "_dom_classes": [],
            "_model_module": "@jupyter-widgets/controls",
            "_model_module_version": "1.5.0",
            "_model_name": "FloatProgressModel",
            "_view_count": null,
            "_view_module": "@jupyter-widgets/controls",
            "_view_module_version": "1.5.0",
            "_view_name": "ProgressView",
            "bar_style": "success",
            "description": "",
            "description_tooltip": null,
            "layout": "IPY_MODEL_9511efeb4e244575905afe53cd75a914",
            "max": 5586,
            "min": 0,
            "orientation": "horizontal",
            "style": "IPY_MODEL_345aa1e5376b44a79c34bb3574ca15cf",
            "value": 5586
          }
        },
        "3a697a2c70f242daa9de7beb5bb6ab85": {
          "model_module": "@jupyter-widgets/controls",
          "model_name": "HTMLModel",
          "model_module_version": "1.5.0",
          "state": {
            "_dom_classes": [],
            "_model_module": "@jupyter-widgets/controls",
            "_model_module_version": "1.5.0",
            "_model_name": "HTMLModel",
            "_view_count": null,
            "_view_module": "@jupyter-widgets/controls",
            "_view_module_version": "1.5.0",
            "_view_name": "HTMLView",
            "description": "",
            "description_tooltip": null,
            "layout": "IPY_MODEL_db008acc1e0941f6bb0f5b659e81e4f6",
            "placeholder": "​",
            "style": "IPY_MODEL_17210d8e0a2b43509e8a258bced3c11b",
            "value": " 5586/5586 [01:53&lt;00:00, 396.05it/s]"
          }
        },
        "74851d8eb79c497bbe4d0f5f43a1ac06": {
          "model_module": "@jupyter-widgets/base",
          "model_name": "LayoutModel",
          "model_module_version": "1.2.0",
          "state": {
            "_model_module": "@jupyter-widgets/base",
            "_model_module_version": "1.2.0",
            "_model_name": "LayoutModel",
            "_view_count": null,
            "_view_module": "@jupyter-widgets/base",
            "_view_module_version": "1.2.0",
            "_view_name": "LayoutView",
            "align_content": null,
            "align_items": null,
            "align_self": null,
            "border": null,
            "bottom": null,
            "display": null,
            "flex": null,
            "flex_flow": null,
            "grid_area": null,
            "grid_auto_columns": null,
            "grid_auto_flow": null,
            "grid_auto_rows": null,
            "grid_column": null,
            "grid_gap": null,
            "grid_row": null,
            "grid_template_areas": null,
            "grid_template_columns": null,
            "grid_template_rows": null,
            "height": null,
            "justify_content": null,
            "justify_items": null,
            "left": null,
            "margin": null,
            "max_height": null,
            "max_width": null,
            "min_height": null,
            "min_width": null,
            "object_fit": null,
            "object_position": null,
            "order": null,
            "overflow": null,
            "overflow_x": null,
            "overflow_y": null,
            "padding": null,
            "right": null,
            "top": null,
            "visibility": null,
            "width": null
          }
        },
        "6715c12c0ee44297847f3e6765a41d29": {
          "model_module": "@jupyter-widgets/base",
          "model_name": "LayoutModel",
          "model_module_version": "1.2.0",
          "state": {
            "_model_module": "@jupyter-widgets/base",
            "_model_module_version": "1.2.0",
            "_model_name": "LayoutModel",
            "_view_count": null,
            "_view_module": "@jupyter-widgets/base",
            "_view_module_version": "1.2.0",
            "_view_name": "LayoutView",
            "align_content": null,
            "align_items": null,
            "align_self": null,
            "border": null,
            "bottom": null,
            "display": null,
            "flex": null,
            "flex_flow": null,
            "grid_area": null,
            "grid_auto_columns": null,
            "grid_auto_flow": null,
            "grid_auto_rows": null,
            "grid_column": null,
            "grid_gap": null,
            "grid_row": null,
            "grid_template_areas": null,
            "grid_template_columns": null,
            "grid_template_rows": null,
            "height": null,
            "justify_content": null,
            "justify_items": null,
            "left": null,
            "margin": null,
            "max_height": null,
            "max_width": null,
            "min_height": null,
            "min_width": null,
            "object_fit": null,
            "object_position": null,
            "order": null,
            "overflow": null,
            "overflow_x": null,
            "overflow_y": null,
            "padding": null,
            "right": null,
            "top": null,
            "visibility": null,
            "width": null
          }
        },
        "8d18215457b1421d838765596e712400": {
          "model_module": "@jupyter-widgets/controls",
          "model_name": "DescriptionStyleModel",
          "model_module_version": "1.5.0",
          "state": {
            "_model_module": "@jupyter-widgets/controls",
            "_model_module_version": "1.5.0",
            "_model_name": "DescriptionStyleModel",
            "_view_count": null,
            "_view_module": "@jupyter-widgets/base",
            "_view_module_version": "1.2.0",
            "_view_name": "StyleView",
            "description_width": ""
          }
        },
        "9511efeb4e244575905afe53cd75a914": {
          "model_module": "@jupyter-widgets/base",
          "model_name": "LayoutModel",
          "model_module_version": "1.2.0",
          "state": {
            "_model_module": "@jupyter-widgets/base",
            "_model_module_version": "1.2.0",
            "_model_name": "LayoutModel",
            "_view_count": null,
            "_view_module": "@jupyter-widgets/base",
            "_view_module_version": "1.2.0",
            "_view_name": "LayoutView",
            "align_content": null,
            "align_items": null,
            "align_self": null,
            "border": null,
            "bottom": null,
            "display": null,
            "flex": null,
            "flex_flow": null,
            "grid_area": null,
            "grid_auto_columns": null,
            "grid_auto_flow": null,
            "grid_auto_rows": null,
            "grid_column": null,
            "grid_gap": null,
            "grid_row": null,
            "grid_template_areas": null,
            "grid_template_columns": null,
            "grid_template_rows": null,
            "height": null,
            "justify_content": null,
            "justify_items": null,
            "left": null,
            "margin": null,
            "max_height": null,
            "max_width": null,
            "min_height": null,
            "min_width": null,
            "object_fit": null,
            "object_position": null,
            "order": null,
            "overflow": null,
            "overflow_x": null,
            "overflow_y": null,
            "padding": null,
            "right": null,
            "top": null,
            "visibility": null,
            "width": null
          }
        },
        "345aa1e5376b44a79c34bb3574ca15cf": {
          "model_module": "@jupyter-widgets/controls",
          "model_name": "ProgressStyleModel",
          "model_module_version": "1.5.0",
          "state": {
            "_model_module": "@jupyter-widgets/controls",
            "_model_module_version": "1.5.0",
            "_model_name": "ProgressStyleModel",
            "_view_count": null,
            "_view_module": "@jupyter-widgets/base",
            "_view_module_version": "1.2.0",
            "_view_name": "StyleView",
            "bar_color": null,
            "description_width": ""
          }
        },
        "db008acc1e0941f6bb0f5b659e81e4f6": {
          "model_module": "@jupyter-widgets/base",
          "model_name": "LayoutModel",
          "model_module_version": "1.2.0",
          "state": {
            "_model_module": "@jupyter-widgets/base",
            "_model_module_version": "1.2.0",
            "_model_name": "LayoutModel",
            "_view_count": null,
            "_view_module": "@jupyter-widgets/base",
            "_view_module_version": "1.2.0",
            "_view_name": "LayoutView",
            "align_content": null,
            "align_items": null,
            "align_self": null,
            "border": null,
            "bottom": null,
            "display": null,
            "flex": null,
            "flex_flow": null,
            "grid_area": null,
            "grid_auto_columns": null,
            "grid_auto_flow": null,
            "grid_auto_rows": null,
            "grid_column": null,
            "grid_gap": null,
            "grid_row": null,
            "grid_template_areas": null,
            "grid_template_columns": null,
            "grid_template_rows": null,
            "height": null,
            "justify_content": null,
            "justify_items": null,
            "left": null,
            "margin": null,
            "max_height": null,
            "max_width": null,
            "min_height": null,
            "min_width": null,
            "object_fit": null,
            "object_position": null,
            "order": null,
            "overflow": null,
            "overflow_x": null,
            "overflow_y": null,
            "padding": null,
            "right": null,
            "top": null,
            "visibility": null,
            "width": null
          }
        },
        "17210d8e0a2b43509e8a258bced3c11b": {
          "model_module": "@jupyter-widgets/controls",
          "model_name": "DescriptionStyleModel",
          "model_module_version": "1.5.0",
          "state": {
            "_model_module": "@jupyter-widgets/controls",
            "_model_module_version": "1.5.0",
            "_model_name": "DescriptionStyleModel",
            "_view_count": null,
            "_view_module": "@jupyter-widgets/base",
            "_view_module_version": "1.2.0",
            "_view_name": "StyleView",
            "description_width": ""
          }
        },
        "84feec9d82394442ac683e21cd17830d": {
          "model_module": "@jupyter-widgets/controls",
          "model_name": "HBoxModel",
          "model_module_version": "1.5.0",
          "state": {
            "_dom_classes": [],
            "_model_module": "@jupyter-widgets/controls",
            "_model_module_version": "1.5.0",
            "_model_name": "HBoxModel",
            "_view_count": null,
            "_view_module": "@jupyter-widgets/controls",
            "_view_module_version": "1.5.0",
            "_view_name": "HBoxView",
            "box_style": "",
            "children": [
              "IPY_MODEL_3701cf3b85124096af411b3a5f2cd02f",
              "IPY_MODEL_dad3ad61cb75464eba8e7973346304ca",
              "IPY_MODEL_bf50c9722ec14cc3842612a476d0d954"
            ],
            "layout": "IPY_MODEL_68104d2f74fc4d3684af4a0babd84e71"
          }
        },
        "3701cf3b85124096af411b3a5f2cd02f": {
          "model_module": "@jupyter-widgets/controls",
          "model_name": "HTMLModel",
          "model_module_version": "1.5.0",
          "state": {
            "_dom_classes": [],
            "_model_module": "@jupyter-widgets/controls",
            "_model_module_version": "1.5.0",
            "_model_name": "HTMLModel",
            "_view_count": null,
            "_view_module": "@jupyter-widgets/controls",
            "_view_module_version": "1.5.0",
            "_view_name": "HTMLView",
            "description": "",
            "description_tooltip": null,
            "layout": "IPY_MODEL_1b1ca91a495a489e87b4c928801b862b",
            "placeholder": "​",
            "style": "IPY_MODEL_c57ae67a6ca04167835bf496ecba0720",
            "value": "Computing transition probabilities: 100%"
          }
        },
        "dad3ad61cb75464eba8e7973346304ca": {
          "model_module": "@jupyter-widgets/controls",
          "model_name": "FloatProgressModel",
          "model_module_version": "1.5.0",
          "state": {
            "_dom_classes": [],
            "_model_module": "@jupyter-widgets/controls",
            "_model_module_version": "1.5.0",
            "_model_name": "FloatProgressModel",
            "_view_count": null,
            "_view_module": "@jupyter-widgets/controls",
            "_view_module_version": "1.5.0",
            "_view_name": "ProgressView",
            "bar_style": "success",
            "description": "",
            "description_tooltip": null,
            "layout": "IPY_MODEL_00a9c85e77b749148883e9f9674e6447",
            "max": 5586,
            "min": 0,
            "orientation": "horizontal",
            "style": "IPY_MODEL_961d98b180f4452aa45d9aeab562d413",
            "value": 5586
          }
        },
        "bf50c9722ec14cc3842612a476d0d954": {
          "model_module": "@jupyter-widgets/controls",
          "model_name": "HTMLModel",
          "model_module_version": "1.5.0",
          "state": {
            "_dom_classes": [],
            "_model_module": "@jupyter-widgets/controls",
            "_model_module_version": "1.5.0",
            "_model_name": "HTMLModel",
            "_view_count": null,
            "_view_module": "@jupyter-widgets/controls",
            "_view_module_version": "1.5.0",
            "_view_name": "HTMLView",
            "description": "",
            "description_tooltip": null,
            "layout": "IPY_MODEL_a5168a1ad44b43a48aff02be658a7900",
            "placeholder": "​",
            "style": "IPY_MODEL_04b0eda75ff741b597e047812c13b9d6",
            "value": " 5586/5586 [01:48&lt;00:00, 444.47it/s]"
          }
        },
        "68104d2f74fc4d3684af4a0babd84e71": {
          "model_module": "@jupyter-widgets/base",
          "model_name": "LayoutModel",
          "model_module_version": "1.2.0",
          "state": {
            "_model_module": "@jupyter-widgets/base",
            "_model_module_version": "1.2.0",
            "_model_name": "LayoutModel",
            "_view_count": null,
            "_view_module": "@jupyter-widgets/base",
            "_view_module_version": "1.2.0",
            "_view_name": "LayoutView",
            "align_content": null,
            "align_items": null,
            "align_self": null,
            "border": null,
            "bottom": null,
            "display": null,
            "flex": null,
            "flex_flow": null,
            "grid_area": null,
            "grid_auto_columns": null,
            "grid_auto_flow": null,
            "grid_auto_rows": null,
            "grid_column": null,
            "grid_gap": null,
            "grid_row": null,
            "grid_template_areas": null,
            "grid_template_columns": null,
            "grid_template_rows": null,
            "height": null,
            "justify_content": null,
            "justify_items": null,
            "left": null,
            "margin": null,
            "max_height": null,
            "max_width": null,
            "min_height": null,
            "min_width": null,
            "object_fit": null,
            "object_position": null,
            "order": null,
            "overflow": null,
            "overflow_x": null,
            "overflow_y": null,
            "padding": null,
            "right": null,
            "top": null,
            "visibility": null,
            "width": null
          }
        },
        "1b1ca91a495a489e87b4c928801b862b": {
          "model_module": "@jupyter-widgets/base",
          "model_name": "LayoutModel",
          "model_module_version": "1.2.0",
          "state": {
            "_model_module": "@jupyter-widgets/base",
            "_model_module_version": "1.2.0",
            "_model_name": "LayoutModel",
            "_view_count": null,
            "_view_module": "@jupyter-widgets/base",
            "_view_module_version": "1.2.0",
            "_view_name": "LayoutView",
            "align_content": null,
            "align_items": null,
            "align_self": null,
            "border": null,
            "bottom": null,
            "display": null,
            "flex": null,
            "flex_flow": null,
            "grid_area": null,
            "grid_auto_columns": null,
            "grid_auto_flow": null,
            "grid_auto_rows": null,
            "grid_column": null,
            "grid_gap": null,
            "grid_row": null,
            "grid_template_areas": null,
            "grid_template_columns": null,
            "grid_template_rows": null,
            "height": null,
            "justify_content": null,
            "justify_items": null,
            "left": null,
            "margin": null,
            "max_height": null,
            "max_width": null,
            "min_height": null,
            "min_width": null,
            "object_fit": null,
            "object_position": null,
            "order": null,
            "overflow": null,
            "overflow_x": null,
            "overflow_y": null,
            "padding": null,
            "right": null,
            "top": null,
            "visibility": null,
            "width": null
          }
        },
        "c57ae67a6ca04167835bf496ecba0720": {
          "model_module": "@jupyter-widgets/controls",
          "model_name": "DescriptionStyleModel",
          "model_module_version": "1.5.0",
          "state": {
            "_model_module": "@jupyter-widgets/controls",
            "_model_module_version": "1.5.0",
            "_model_name": "DescriptionStyleModel",
            "_view_count": null,
            "_view_module": "@jupyter-widgets/base",
            "_view_module_version": "1.2.0",
            "_view_name": "StyleView",
            "description_width": ""
          }
        },
        "00a9c85e77b749148883e9f9674e6447": {
          "model_module": "@jupyter-widgets/base",
          "model_name": "LayoutModel",
          "model_module_version": "1.2.0",
          "state": {
            "_model_module": "@jupyter-widgets/base",
            "_model_module_version": "1.2.0",
            "_model_name": "LayoutModel",
            "_view_count": null,
            "_view_module": "@jupyter-widgets/base",
            "_view_module_version": "1.2.0",
            "_view_name": "LayoutView",
            "align_content": null,
            "align_items": null,
            "align_self": null,
            "border": null,
            "bottom": null,
            "display": null,
            "flex": null,
            "flex_flow": null,
            "grid_area": null,
            "grid_auto_columns": null,
            "grid_auto_flow": null,
            "grid_auto_rows": null,
            "grid_column": null,
            "grid_gap": null,
            "grid_row": null,
            "grid_template_areas": null,
            "grid_template_columns": null,
            "grid_template_rows": null,
            "height": null,
            "justify_content": null,
            "justify_items": null,
            "left": null,
            "margin": null,
            "max_height": null,
            "max_width": null,
            "min_height": null,
            "min_width": null,
            "object_fit": null,
            "object_position": null,
            "order": null,
            "overflow": null,
            "overflow_x": null,
            "overflow_y": null,
            "padding": null,
            "right": null,
            "top": null,
            "visibility": null,
            "width": null
          }
        },
        "961d98b180f4452aa45d9aeab562d413": {
          "model_module": "@jupyter-widgets/controls",
          "model_name": "ProgressStyleModel",
          "model_module_version": "1.5.0",
          "state": {
            "_model_module": "@jupyter-widgets/controls",
            "_model_module_version": "1.5.0",
            "_model_name": "ProgressStyleModel",
            "_view_count": null,
            "_view_module": "@jupyter-widgets/base",
            "_view_module_version": "1.2.0",
            "_view_name": "StyleView",
            "bar_color": null,
            "description_width": ""
          }
        },
        "a5168a1ad44b43a48aff02be658a7900": {
          "model_module": "@jupyter-widgets/base",
          "model_name": "LayoutModel",
          "model_module_version": "1.2.0",
          "state": {
            "_model_module": "@jupyter-widgets/base",
            "_model_module_version": "1.2.0",
            "_model_name": "LayoutModel",
            "_view_count": null,
            "_view_module": "@jupyter-widgets/base",
            "_view_module_version": "1.2.0",
            "_view_name": "LayoutView",
            "align_content": null,
            "align_items": null,
            "align_self": null,
            "border": null,
            "bottom": null,
            "display": null,
            "flex": null,
            "flex_flow": null,
            "grid_area": null,
            "grid_auto_columns": null,
            "grid_auto_flow": null,
            "grid_auto_rows": null,
            "grid_column": null,
            "grid_gap": null,
            "grid_row": null,
            "grid_template_areas": null,
            "grid_template_columns": null,
            "grid_template_rows": null,
            "height": null,
            "justify_content": null,
            "justify_items": null,
            "left": null,
            "margin": null,
            "max_height": null,
            "max_width": null,
            "min_height": null,
            "min_width": null,
            "object_fit": null,
            "object_position": null,
            "order": null,
            "overflow": null,
            "overflow_x": null,
            "overflow_y": null,
            "padding": null,
            "right": null,
            "top": null,
            "visibility": null,
            "width": null
          }
        },
        "04b0eda75ff741b597e047812c13b9d6": {
          "model_module": "@jupyter-widgets/controls",
          "model_name": "DescriptionStyleModel",
          "model_module_version": "1.5.0",
          "state": {
            "_model_module": "@jupyter-widgets/controls",
            "_model_module_version": "1.5.0",
            "_model_name": "DescriptionStyleModel",
            "_view_count": null,
            "_view_module": "@jupyter-widgets/base",
            "_view_module_version": "1.2.0",
            "_view_name": "StyleView",
            "description_width": ""
          }
        }
      }
    },
    "accelerator": "GPU"
  },
  "cells": [
    {
      "cell_type": "markdown",
      "source": [
        "https://www.kaggle.com/datasets/andrewmvd/spotify-playlists?select=spotify_dataset.csv"
      ],
      "metadata": {
        "id": "cIDBJ5wYxXt2"
      }
    },
    {
      "cell_type": "code",
      "execution_count": 1,
      "metadata": {
        "id": "nEunuiJQ3xvw"
      },
      "outputs": [],
      "source": [
        "# libraries\n",
        "\n",
        "import random\n",
        "import scipy.stats\n",
        "import numpy as np\n",
        "import pandas as pd\n",
        "import seaborn as sns\n",
        "import networkx as nx\n",
        "import tensorflow as tf\n",
        "#!pip install node2vec\n",
        "from node2vec import Node2Vec\n",
        "import matplotlib.pyplot as plt\n",
        "from collections import defaultdict\n",
        "import community.community_louvain as louvain"
      ]
    },
    {
      "cell_type": "code",
      "source": [
        "# for Colab - ignore\n",
        "\n",
        "device_name = tf.test.gpu_device_name()\n",
        "if len(device_name) > 0:\n",
        "    print(\"Found GPU at: {}\".format(device_name))\n",
        "else:\n",
        "    device_name = \"/device:CPU:0\"\n",
        "    print(\"No GPU, using {}.\".format(device_name))"
      ],
      "metadata": {
        "id": "u2ivDr1vcp6W",
        "colab": {
          "base_uri": "https://localhost:8080/"
        },
        "outputId": "aeede288-a009-4099-947e-068ce1df428e"
      },
      "execution_count": 2,
      "outputs": [
        {
          "output_type": "stream",
          "name": "stdout",
          "text": [
            "Found GPU at: /device:GPU:0\n"
          ]
        }
      ]
    },
    {
      "cell_type": "code",
      "source": [
        "# data set import\n",
        "\n",
        "spotify_playlist_raw =  pd.read_csv(\"drive/MyDrive/spotify_dataset.csv\",on_bad_lines='skip',\n",
        "                                names=['user_id', 'artist', 'track', 'playlist'])"
      ],
      "metadata": {
        "id": "FfgsHaFE7wv1"
      },
      "execution_count": 3,
      "outputs": []
    },
    {
      "cell_type": "code",
      "source": [
        "spotify_playlist_raw.head()"
      ],
      "metadata": {
        "colab": {
          "base_uri": "https://localhost:8080/",
          "height": 206
        },
        "id": "mRM9ioKL9b2I",
        "outputId": "602b59fe-6c69-4538-8e1f-2870d91451d3"
      },
      "execution_count": null,
      "outputs": [
        {
          "output_type": "execute_result",
          "data": {
            "text/plain": [
              "                            user_id                            artist  \\\n",
              "0                           user_id                      \"artistname\"   \n",
              "1  9cc0cfd4d7d7885102480dd99e7a90d6                    Elvis Costello   \n",
              "2  9cc0cfd4d7d7885102480dd99e7a90d6  Elvis Costello & The Attractions   \n",
              "3  9cc0cfd4d7d7885102480dd99e7a90d6                      Tiffany Page   \n",
              "4  9cc0cfd4d7d7885102480dd99e7a90d6  Elvis Costello & The Attractions   \n",
              "\n",
              "                                               track         playlist  \n",
              "0                                        \"trackname\"   \"playlistname\"  \n",
              "1               (The Angels Wanna Wear My) Red Shoes   HARD ROCK 2010  \n",
              "2  (What's So Funny 'Bout) Peace, Love And Unders...   HARD ROCK 2010  \n",
              "3                                   7 Years Too Late   HARD ROCK 2010  \n",
              "4                              Accidents Will Happen   HARD ROCK 2010  "
            ],
            "text/html": [
              "\n",
              "  <div id=\"df-efe7a84c-573f-4366-b47f-f4dc46e2b2a2\" class=\"colab-df-container\">\n",
              "    <div>\n",
              "<style scoped>\n",
              "    .dataframe tbody tr th:only-of-type {\n",
              "        vertical-align: middle;\n",
              "    }\n",
              "\n",
              "    .dataframe tbody tr th {\n",
              "        vertical-align: top;\n",
              "    }\n",
              "\n",
              "    .dataframe thead th {\n",
              "        text-align: right;\n",
              "    }\n",
              "</style>\n",
              "<table border=\"1\" class=\"dataframe\">\n",
              "  <thead>\n",
              "    <tr style=\"text-align: right;\">\n",
              "      <th></th>\n",
              "      <th>user_id</th>\n",
              "      <th>artist</th>\n",
              "      <th>track</th>\n",
              "      <th>playlist</th>\n",
              "    </tr>\n",
              "  </thead>\n",
              "  <tbody>\n",
              "    <tr>\n",
              "      <th>0</th>\n",
              "      <td>user_id</td>\n",
              "      <td>\"artistname\"</td>\n",
              "      <td>\"trackname\"</td>\n",
              "      <td>\"playlistname\"</td>\n",
              "    </tr>\n",
              "    <tr>\n",
              "      <th>1</th>\n",
              "      <td>9cc0cfd4d7d7885102480dd99e7a90d6</td>\n",
              "      <td>Elvis Costello</td>\n",
              "      <td>(The Angels Wanna Wear My) Red Shoes</td>\n",
              "      <td>HARD ROCK 2010</td>\n",
              "    </tr>\n",
              "    <tr>\n",
              "      <th>2</th>\n",
              "      <td>9cc0cfd4d7d7885102480dd99e7a90d6</td>\n",
              "      <td>Elvis Costello &amp; The Attractions</td>\n",
              "      <td>(What's So Funny 'Bout) Peace, Love And Unders...</td>\n",
              "      <td>HARD ROCK 2010</td>\n",
              "    </tr>\n",
              "    <tr>\n",
              "      <th>3</th>\n",
              "      <td>9cc0cfd4d7d7885102480dd99e7a90d6</td>\n",
              "      <td>Tiffany Page</td>\n",
              "      <td>7 Years Too Late</td>\n",
              "      <td>HARD ROCK 2010</td>\n",
              "    </tr>\n",
              "    <tr>\n",
              "      <th>4</th>\n",
              "      <td>9cc0cfd4d7d7885102480dd99e7a90d6</td>\n",
              "      <td>Elvis Costello &amp; The Attractions</td>\n",
              "      <td>Accidents Will Happen</td>\n",
              "      <td>HARD ROCK 2010</td>\n",
              "    </tr>\n",
              "  </tbody>\n",
              "</table>\n",
              "</div>\n",
              "    <div class=\"colab-df-buttons\">\n",
              "\n",
              "  <div class=\"colab-df-container\">\n",
              "    <button class=\"colab-df-convert\" onclick=\"convertToInteractive('df-efe7a84c-573f-4366-b47f-f4dc46e2b2a2')\"\n",
              "            title=\"Convert this dataframe to an interactive table.\"\n",
              "            style=\"display:none;\">\n",
              "\n",
              "  <svg xmlns=\"http://www.w3.org/2000/svg\" height=\"24px\" viewBox=\"0 -960 960 960\">\n",
              "    <path d=\"M120-120v-720h720v720H120Zm60-500h600v-160H180v160Zm220 220h160v-160H400v160Zm0 220h160v-160H400v160ZM180-400h160v-160H180v160Zm440 0h160v-160H620v160ZM180-180h160v-160H180v160Zm440 0h160v-160H620v160Z\"/>\n",
              "  </svg>\n",
              "    </button>\n",
              "\n",
              "  <style>\n",
              "    .colab-df-container {\n",
              "      display:flex;\n",
              "      gap: 12px;\n",
              "    }\n",
              "\n",
              "    .colab-df-convert {\n",
              "      background-color: #E8F0FE;\n",
              "      border: none;\n",
              "      border-radius: 50%;\n",
              "      cursor: pointer;\n",
              "      display: none;\n",
              "      fill: #1967D2;\n",
              "      height: 32px;\n",
              "      padding: 0 0 0 0;\n",
              "      width: 32px;\n",
              "    }\n",
              "\n",
              "    .colab-df-convert:hover {\n",
              "      background-color: #E2EBFA;\n",
              "      box-shadow: 0px 1px 2px rgba(60, 64, 67, 0.3), 0px 1px 3px 1px rgba(60, 64, 67, 0.15);\n",
              "      fill: #174EA6;\n",
              "    }\n",
              "\n",
              "    .colab-df-buttons div {\n",
              "      margin-bottom: 4px;\n",
              "    }\n",
              "\n",
              "    [theme=dark] .colab-df-convert {\n",
              "      background-color: #3B4455;\n",
              "      fill: #D2E3FC;\n",
              "    }\n",
              "\n",
              "    [theme=dark] .colab-df-convert:hover {\n",
              "      background-color: #434B5C;\n",
              "      box-shadow: 0px 1px 3px 1px rgba(0, 0, 0, 0.15);\n",
              "      filter: drop-shadow(0px 1px 2px rgba(0, 0, 0, 0.3));\n",
              "      fill: #FFFFFF;\n",
              "    }\n",
              "  </style>\n",
              "\n",
              "    <script>\n",
              "      const buttonEl =\n",
              "        document.querySelector('#df-efe7a84c-573f-4366-b47f-f4dc46e2b2a2 button.colab-df-convert');\n",
              "      buttonEl.style.display =\n",
              "        google.colab.kernel.accessAllowed ? 'block' : 'none';\n",
              "\n",
              "      async function convertToInteractive(key) {\n",
              "        const element = document.querySelector('#df-efe7a84c-573f-4366-b47f-f4dc46e2b2a2');\n",
              "        const dataTable =\n",
              "          await google.colab.kernel.invokeFunction('convertToInteractive',\n",
              "                                                    [key], {});\n",
              "        if (!dataTable) return;\n",
              "\n",
              "        const docLinkHtml = 'Like what you see? Visit the ' +\n",
              "          '<a target=\"_blank\" href=https://colab.research.google.com/notebooks/data_table.ipynb>data table notebook</a>'\n",
              "          + ' to learn more about interactive tables.';\n",
              "        element.innerHTML = '';\n",
              "        dataTable['output_type'] = 'display_data';\n",
              "        await google.colab.output.renderOutput(dataTable, element);\n",
              "        const docLink = document.createElement('div');\n",
              "        docLink.innerHTML = docLinkHtml;\n",
              "        element.appendChild(docLink);\n",
              "      }\n",
              "    </script>\n",
              "  </div>\n",
              "\n",
              "\n",
              "<div id=\"df-1ba36420-7c1c-4d7d-942c-2f3d4f7ebee7\">\n",
              "  <button class=\"colab-df-quickchart\" onclick=\"quickchart('df-1ba36420-7c1c-4d7d-942c-2f3d4f7ebee7')\"\n",
              "            title=\"Suggest charts\"\n",
              "            style=\"display:none;\">\n",
              "\n",
              "<svg xmlns=\"http://www.w3.org/2000/svg\" height=\"24px\"viewBox=\"0 0 24 24\"\n",
              "     width=\"24px\">\n",
              "    <g>\n",
              "        <path d=\"M19 3H5c-1.1 0-2 .9-2 2v14c0 1.1.9 2 2 2h14c1.1 0 2-.9 2-2V5c0-1.1-.9-2-2-2zM9 17H7v-7h2v7zm4 0h-2V7h2v10zm4 0h-2v-4h2v4z\"/>\n",
              "    </g>\n",
              "</svg>\n",
              "  </button>\n",
              "\n",
              "<style>\n",
              "  .colab-df-quickchart {\n",
              "      --bg-color: #E8F0FE;\n",
              "      --fill-color: #1967D2;\n",
              "      --hover-bg-color: #E2EBFA;\n",
              "      --hover-fill-color: #174EA6;\n",
              "      --disabled-fill-color: #AAA;\n",
              "      --disabled-bg-color: #DDD;\n",
              "  }\n",
              "\n",
              "  [theme=dark] .colab-df-quickchart {\n",
              "      --bg-color: #3B4455;\n",
              "      --fill-color: #D2E3FC;\n",
              "      --hover-bg-color: #434B5C;\n",
              "      --hover-fill-color: #FFFFFF;\n",
              "      --disabled-bg-color: #3B4455;\n",
              "      --disabled-fill-color: #666;\n",
              "  }\n",
              "\n",
              "  .colab-df-quickchart {\n",
              "    background-color: var(--bg-color);\n",
              "    border: none;\n",
              "    border-radius: 50%;\n",
              "    cursor: pointer;\n",
              "    display: none;\n",
              "    fill: var(--fill-color);\n",
              "    height: 32px;\n",
              "    padding: 0;\n",
              "    width: 32px;\n",
              "  }\n",
              "\n",
              "  .colab-df-quickchart:hover {\n",
              "    background-color: var(--hover-bg-color);\n",
              "    box-shadow: 0 1px 2px rgba(60, 64, 67, 0.3), 0 1px 3px 1px rgba(60, 64, 67, 0.15);\n",
              "    fill: var(--button-hover-fill-color);\n",
              "  }\n",
              "\n",
              "  .colab-df-quickchart-complete:disabled,\n",
              "  .colab-df-quickchart-complete:disabled:hover {\n",
              "    background-color: var(--disabled-bg-color);\n",
              "    fill: var(--disabled-fill-color);\n",
              "    box-shadow: none;\n",
              "  }\n",
              "\n",
              "  .colab-df-spinner {\n",
              "    border: 2px solid var(--fill-color);\n",
              "    border-color: transparent;\n",
              "    border-bottom-color: var(--fill-color);\n",
              "    animation:\n",
              "      spin 1s steps(1) infinite;\n",
              "  }\n",
              "\n",
              "  @keyframes spin {\n",
              "    0% {\n",
              "      border-color: transparent;\n",
              "      border-bottom-color: var(--fill-color);\n",
              "      border-left-color: var(--fill-color);\n",
              "    }\n",
              "    20% {\n",
              "      border-color: transparent;\n",
              "      border-left-color: var(--fill-color);\n",
              "      border-top-color: var(--fill-color);\n",
              "    }\n",
              "    30% {\n",
              "      border-color: transparent;\n",
              "      border-left-color: var(--fill-color);\n",
              "      border-top-color: var(--fill-color);\n",
              "      border-right-color: var(--fill-color);\n",
              "    }\n",
              "    40% {\n",
              "      border-color: transparent;\n",
              "      border-right-color: var(--fill-color);\n",
              "      border-top-color: var(--fill-color);\n",
              "    }\n",
              "    60% {\n",
              "      border-color: transparent;\n",
              "      border-right-color: var(--fill-color);\n",
              "    }\n",
              "    80% {\n",
              "      border-color: transparent;\n",
              "      border-right-color: var(--fill-color);\n",
              "      border-bottom-color: var(--fill-color);\n",
              "    }\n",
              "    90% {\n",
              "      border-color: transparent;\n",
              "      border-bottom-color: var(--fill-color);\n",
              "    }\n",
              "  }\n",
              "</style>\n",
              "\n",
              "  <script>\n",
              "    async function quickchart(key) {\n",
              "      const quickchartButtonEl =\n",
              "        document.querySelector('#' + key + ' button');\n",
              "      quickchartButtonEl.disabled = true;  // To prevent multiple clicks.\n",
              "      quickchartButtonEl.classList.add('colab-df-spinner');\n",
              "      try {\n",
              "        const charts = await google.colab.kernel.invokeFunction(\n",
              "            'suggestCharts', [key], {});\n",
              "      } catch (error) {\n",
              "        console.error('Error during call to suggestCharts:', error);\n",
              "      }\n",
              "      quickchartButtonEl.classList.remove('colab-df-spinner');\n",
              "      quickchartButtonEl.classList.add('colab-df-quickchart-complete');\n",
              "    }\n",
              "    (() => {\n",
              "      let quickchartButtonEl =\n",
              "        document.querySelector('#df-1ba36420-7c1c-4d7d-942c-2f3d4f7ebee7 button');\n",
              "      quickchartButtonEl.style.display =\n",
              "        google.colab.kernel.accessAllowed ? 'block' : 'none';\n",
              "    })();\n",
              "  </script>\n",
              "</div>\n",
              "    </div>\n",
              "  </div>\n"
            ]
          },
          "metadata": {},
          "execution_count": 4
        }
      ]
    },
    {
      "cell_type": "code",
      "source": [
        "spotify_playlist_raw.shape"
      ],
      "metadata": {
        "colab": {
          "base_uri": "https://localhost:8080/"
        },
        "id": "_GKytpt39rvI",
        "outputId": "9a8bbf36-34b7-403e-9560-c422640cfabc"
      },
      "execution_count": null,
      "outputs": [
        {
          "output_type": "execute_result",
          "data": {
            "text/plain": [
              "(12891681, 4)"
            ]
          },
          "metadata": {},
          "execution_count": 5
        }
      ]
    },
    {
      "cell_type": "code",
      "source": [
        "# too many rows - sampling\n",
        "\n",
        "rows = 125000\n",
        "spotify_playlist = spotify_playlist_raw.sample(n=rows,random_state=14)"
      ],
      "metadata": {
        "id": "JLNHOqOYanGJ"
      },
      "execution_count": 4,
      "outputs": []
    },
    {
      "cell_type": "code",
      "source": [
        "# missing values\n",
        "\n",
        "spotify_playlist.isnull().sum(axis=0)/spotify_playlist.shape[0]"
      ],
      "metadata": {
        "colab": {
          "base_uri": "https://localhost:8080/"
        },
        "id": "un6MUhMq-S17",
        "outputId": "cecbbb6a-4175-4d04-c025-d1f983ced26d"
      },
      "execution_count": null,
      "outputs": [
        {
          "output_type": "execute_result",
          "data": {
            "text/plain": [
              "user_id     0.000000\n",
              "artist      0.002704\n",
              "track       0.000000\n",
              "playlist    0.000072\n",
              "dtype: float64"
            ]
          },
          "metadata": {},
          "execution_count": 7
        }
      ]
    },
    {
      "cell_type": "code",
      "source": [
        "# dropna\n",
        "\n",
        "spotify_playlist_no_null = spotify_playlist.dropna()"
      ],
      "metadata": {
        "id": "_rBlgpk0-3VR"
      },
      "execution_count": 5,
      "outputs": []
    },
    {
      "cell_type": "code",
      "source": [
        "# only useful columns\n",
        "\n",
        "data = spotify_playlist_no_null.drop(['track','playlist'],axis=1)"
      ],
      "metadata": {
        "id": "CfszFWSrVW3N"
      },
      "execution_count": 6,
      "outputs": []
    },
    {
      "cell_type": "code",
      "source": [
        "# no multiple times same user-artist\n",
        "\n",
        "df_unique = data.drop_duplicates(subset=['user_id','artist'])\n",
        "\n",
        "pairs_unique = df_unique['artist'].value_counts()\n",
        "\n",
        "pairs_unique.head()"
      ],
      "metadata": {
        "colab": {
          "base_uri": "https://localhost:8080/"
        },
        "id": "hmafKXbR-iei",
        "outputId": "a23638f2-d169-4f7c-b523-ba4e20b3a9ab"
      },
      "execution_count": 7,
      "outputs": [
        {
          "output_type": "execute_result",
          "data": {
            "text/plain": [
              "Coldplay      298\n",
              "Daft Punk     288\n",
              "JAY Z         268\n",
              "Kanye West    252\n",
              "Radiohead     237\n",
              "Name: artist, dtype: int64"
            ]
          },
          "metadata": {},
          "execution_count": 7
        }
      ]
    },
    {
      "cell_type": "code",
      "source": [
        "df_unique.shape"
      ],
      "metadata": {
        "colab": {
          "base_uri": "https://localhost:8080/"
        },
        "id": "r6T8fu8o_GMt",
        "outputId": "955b9053-b4c2-4f10-e776-ace7a37d6db6"
      },
      "execution_count": null,
      "outputs": [
        {
          "output_type": "execute_result",
          "data": {
            "text/plain": [
              "(109537, 2)"
            ]
          },
          "metadata": {},
          "execution_count": 11
        }
      ]
    },
    {
      "cell_type": "code",
      "source": [
        "# how many times two artist has been listened to by an user\n",
        "\n",
        "pairs = defaultdict(int)\n",
        "\n",
        "# Loop through the entire list of users\n",
        "for group in df_unique.groupby(\"user_id\"):\n",
        "    # List of artists rated by the current user\n",
        "    user_artists = list(group[1][\"artist\"])\n",
        "\n",
        "\n",
        "    # Count every time two artists are listened to together\n",
        "    for i in range(len(user_artists)):\n",
        "        for j in range(i+1, len(user_artists)):\n",
        "            pairs[(user_artists[i], user_artists[j])] += 1"
      ],
      "metadata": {
        "id": "Wk7Zr0tAV7va"
      },
      "execution_count": 8,
      "outputs": []
    },
    {
      "cell_type": "code",
      "source": [
        "# let's create the network\n",
        "\n",
        "G = nx.Graph()\n",
        "\n",
        "# Try to create an edge between artists that are listened to together\n",
        "for pair in pairs:\n",
        "    artist1, artist2 = pair\n",
        "    if artist1 != artist2:\n",
        "      score = pairs[pair]\n",
        "\n",
        "    # The edge is only created when the score is high enough -> at least 2 users have listened to the pair\n",
        "      if score >= 2:\n",
        "        G.add_edge(artist1, artist2, weight=score)\n",
        "\n",
        "print(\"Total number of graph nodes:\", G.number_of_nodes())\n",
        "print(\"Total number of graph edges:\", G.number_of_edges())"
      ],
      "metadata": {
        "colab": {
          "base_uri": "https://localhost:8080/"
        },
        "id": "nQLabcOkA_D_",
        "outputId": "9cd2ffe6-a82d-44cc-e922-cade08f6114e"
      },
      "execution_count": 9,
      "outputs": [
        {
          "output_type": "stream",
          "name": "stdout",
          "text": [
            "Total number of graph nodes: 5586\n",
            "Total number of graph edges: 70430\n"
          ]
        }
      ]
    },
    {
      "cell_type": "code",
      "source": [
        "# GRAPH PROPERTIES\n",
        "\n",
        "degrees = list(dict(G.degree()).values())"
      ],
      "metadata": {
        "id": "CkLsKl-00Swz"
      },
      "execution_count": null,
      "outputs": []
    },
    {
      "cell_type": "code",
      "source": [
        "# statistics about degrees\n",
        "\n",
        "avg_degree = np.mean(degrees)\n",
        "min_degree = np.min(degrees)\n",
        "max_degree = np.max(degrees)\n",
        "std_dev_degree = np.std(degrees)\n",
        "median_degree = np.median(degrees)\n",
        "\n",
        "print(\"Mean:\", avg_degree,\"\\nMinimum:\", min_degree, \"\\nMaximum:\", max_degree,\"\\nStandard Deviation:\", std_dev_degree,\"\\nMedian:\", median_degree)"
      ],
      "metadata": {
        "colab": {
          "base_uri": "https://localhost:8080/"
        },
        "id": "HCYoCRAqDw-6",
        "outputId": "99d7ef52-b311-4e38-e021-2e3d38682e17"
      },
      "execution_count": null,
      "outputs": [
        {
          "output_type": "stream",
          "name": "stdout",
          "text": [
            "Mean: 25.216612960973862 \n",
            "Minimum: 1 \n",
            "Maximum: 771 \n",
            "Standard Deviation: 62.37144013595095 \n",
            "Median: 5.0\n"
          ]
        }
      ]
    },
    {
      "cell_type": "code",
      "source": [
        "# density\n",
        "\n",
        "density = nx.density(G)\n",
        "density"
      ],
      "metadata": {
        "colab": {
          "base_uri": "https://localhost:8080/"
        },
        "id": "YtnQIFp8E9kp",
        "outputId": "484c172f-0bbf-450f-c7a7-519e8d3e81d1"
      },
      "execution_count": null,
      "outputs": [
        {
          "output_type": "execute_result",
          "data": {
            "text/plain": [
              "0.004515060512260315"
            ]
          },
          "metadata": {},
          "execution_count": 16
        }
      ]
    },
    {
      "cell_type": "code",
      "source": [
        "# degree centrailty\n",
        "degree_centrality = nx.degree_centrality(G)\n",
        "degree_central = max(degree_centrality,key=degree_centrality.get)"
      ],
      "metadata": {
        "id": "eydBlv2pB7fR"
      },
      "execution_count": 10,
      "outputs": []
    },
    {
      "cell_type": "code",
      "source": [
        "# closeness centrailty\n",
        "closeness_centrality = nx.closeness_centrality(G)\n",
        "close_central = max(closeness_centrality,key=closeness_centrality.get)\n",
        "\n",
        "# betweenness centrality\n",
        "betw_centrality = nx.betweenness_centrality(G)\n",
        "betw_central = max(betw_centrality,key=betw_centrality.get)\n",
        "\n",
        "# eigenvector centrality\n",
        "eigen_centrality = nx.eigenvector_centrality(G)\n",
        "eigen_central = max(eigen_centrality,key=eigen_centrality.get)\n",
        "\n",
        "print(\"Most central nodes according to the following definitions:\",\"\\nDegree:\", degree_central,\"\\nCloseness\", close_central,\"\\nBetweenness:\", betw_central,\"\\nEigenvector:\", eigen_central)"
      ],
      "metadata": {
        "colab": {
          "base_uri": "https://localhost:8080/"
        },
        "id": "DPbsjpb-WMgl",
        "outputId": "b1c10c0a-fc53-487d-ef9a-642e0ea5bd06"
      },
      "execution_count": null,
      "outputs": [
        {
          "output_type": "stream",
          "name": "stdout",
          "text": [
            "Most central nodes according to the following definitions: \n",
            "Degree: David Bowie \n",
            "Closeness Coldplay \n",
            "Betweenness: David Bowie \n",
            "Eigenvector: Radiohead\n"
          ]
        }
      ]
    },
    {
      "cell_type": "code",
      "source": [
        "all_centr = [degree_centrality,closeness_centrality,betw_centrality,eigen_centrality]\n",
        "corrs = [[scipy.stats.pearsonr(list(c1.values()), list(c2.values()))[0] for c1 in all_centr] for c2 in all_centr]\n",
        "centralities = ['degree', 'closeness','betweenness','eigenvector']\n",
        "plt.figure(figsize = (10,5))\n",
        "sns.heatmap(pd.DataFrame(corrs),annot = True,cmap = 'coolwarm')\n",
        "plt.xticks([x+0.5 for x in range(4)],centralities, rotation = 0)\n",
        "plt.yticks([x+0.5 for x in range(4)],centralities, rotation = 0)\n",
        "plt.title('Pearson correlation\\n', weight = 'bold')\n",
        "plt.show()"
      ],
      "metadata": {
        "colab": {
          "base_uri": "https://localhost:8080/",
          "height": 488
        },
        "id": "Jlp0W17gpcoX",
        "outputId": "0c4bd48c-fccd-4af5-e841-6a7a61996b4b"
      },
      "execution_count": null,
      "outputs": [
        {
          "output_type": "display_data",
          "data": {
            "text/plain": [
              "<Figure size 1000x500 with 2 Axes>"
            ],
            "image/png": "[encoded data removed]"
          },
          "metadata": {}
        }
      ]
    },
    {
      "cell_type": "code",
      "source": [
        "sort_degree_centrality = dict(sorted(degree_centrality.items(),key=lambda item:item[1],reverse=True))\n",
        "top_degree = list(sort_degree_centrality.keys())[:5]"
      ],
      "metadata": {
        "id": "2m8KRuTBB_-i"
      },
      "execution_count": 11,
      "outputs": []
    },
    {
      "cell_type": "code",
      "source": [
        "sort_close_centrality = dict(sorted(closeness_centrality.items(),key=lambda item:item[1],reverse=True))\n",
        "top_close = list(sort_close_centrality.keys())[:5]\n",
        "sort_betw_centrality = dict(sorted(betw_centrality.items(),key=lambda item:item[1],reverse=True))\n",
        "top_betw = list(sort_betw_centrality.keys())[:5]\n",
        "sort_eigen_centrality = dict(sorted(eigen_centrality.items(),key=lambda item:item[1],reverse=True))\n",
        "top_eigen = list(sort_eigen_centrality.keys())[:5]\n",
        "print(\"Top 5 nodes according to:\\nDegree centrality:\", top_degree,\"\\nCloseness:\", top_close,\"\\nBetweenness\", top_betw,\"\\nEigenvector:\", top_eigen)"
      ],
      "metadata": {
        "colab": {
          "base_uri": "https://localhost:8080/"
        },
        "id": "BisItq2kuvwh",
        "outputId": "430008d3-a8dc-484a-cc91-793f135f5621"
      },
      "execution_count": null,
      "outputs": [
        {
          "output_type": "stream",
          "name": "stdout",
          "text": [
            "Top 5 nodes according to:\n",
            "Degree centrality: ['David Bowie', 'JAY Z', 'Coldplay', 'Radiohead', 'Queen'] \n",
            "Closeness: ['Coldplay', 'Radiohead', 'JAY Z', 'David Bowie', 'Queen'] \n",
            "Betweenness ['David Bowie', 'JAY Z', 'Daft Punk', 'Coldplay', 'Queen'] \n",
            "Eigenvector: ['Radiohead', 'Coldplay', 'JAY Z', 'David Bowie', 'Queen']\n"
          ]
        }
      ]
    },
    {
      "cell_type": "code",
      "source": [
        "# Connectivity\n",
        "\n",
        "nx.is_connected(G)"
      ],
      "metadata": {
        "colab": {
          "base_uri": "https://localhost:8080/"
        },
        "id": "V-45FKBo3bml",
        "outputId": "ec504fa0-84c3-42e5-884e-790cf162a75a"
      },
      "execution_count": null,
      "outputs": [
        {
          "output_type": "execute_result",
          "data": {
            "text/plain": [
              "False"
            ]
          },
          "metadata": {},
          "execution_count": 20
        }
      ]
    },
    {
      "cell_type": "code",
      "source": [
        "nx.number_connected_components(G)"
      ],
      "metadata": {
        "colab": {
          "base_uri": "https://localhost:8080/"
        },
        "id": "cNXdF5DG3iFS",
        "outputId": "0cf04382-536f-4c7a-d2e6-c5164afdf8ac"
      },
      "execution_count": null,
      "outputs": [
        {
          "output_type": "execute_result",
          "data": {
            "text/plain": [
              "40"
            ]
          },
          "metadata": {},
          "execution_count": 21
        }
      ]
    },
    {
      "cell_type": "code",
      "source": [
        "len_components = [len(c) for c in nx.connected_components(G)]\n",
        "components = [c for c in nx.connected_components(G)]"
      ],
      "metadata": {
        "id": "QEV7s_Hg4ZUe"
      },
      "execution_count": null,
      "outputs": []
    },
    {
      "cell_type": "code",
      "source": [
        "# largest connected component\n",
        "\n",
        "lcc = G.subgraph(components[0])\n",
        "print(lcc.number_of_nodes())\n",
        "print(lcc.number_of_edges())\n",
        "avg_shrt_path_len_lcc = nx.average_shortest_path_length(lcc)\n",
        "print(avg_shrt_path_len_lcc)\n",
        "diam_lcc = nx.diameter(lcc)\n",
        "print(diam_lcc)"
      ],
      "metadata": {
        "colab": {
          "base_uri": "https://localhost:8080/"
        },
        "id": "2fUUqAExowS4",
        "outputId": "5c6ce81c-0191-45a3-8c95-c5c37101e171"
      },
      "execution_count": null,
      "outputs": [
        {
          "output_type": "stream",
          "name": "stdout",
          "text": [
            "5503\n",
            "70386\n",
            "3.0523421579042873\n",
            "8\n"
          ]
        }
      ]
    },
    {
      "cell_type": "code",
      "source": [
        "degrees_lcc = list(dict(lcc.degree()).values())\n",
        "avg_degree_lcc = np.mean(degrees_lcc)\n",
        "print(avg_degree_lcc)\n",
        "density_lcc = nx.density(lcc)\n",
        "print(density_lcc)"
      ],
      "metadata": {
        "colab": {
          "base_uri": "https://localhost:8080/"
        },
        "id": "Ralq4dCDvOy_",
        "outputId": "15c10ad8-5539-4117-8734-2fe79cd7edc4"
      },
      "execution_count": null,
      "outputs": [
        {
          "output_type": "stream",
          "name": "stdout",
          "text": [
            "25.580955842267855\n",
            "0.004649392192342394\n"
          ]
        }
      ]
    },
    {
      "cell_type": "code",
      "source": [
        "largest_component = len_components[0]/sum(len_components)\n",
        "largest_component"
      ],
      "metadata": {
        "colab": {
          "base_uri": "https://localhost:8080/"
        },
        "id": "5av2Eq4Zq0k9",
        "outputId": "d72bc6b8-716b-42f5-f193-2374bfda99e5"
      },
      "execution_count": null,
      "outputs": [
        {
          "output_type": "execute_result",
          "data": {
            "text/plain": [
              "0.9851414249910491"
            ]
          },
          "metadata": {},
          "execution_count": 23
        }
      ]
    },
    {
      "cell_type": "code",
      "source": [
        "components_count = defaultdict(int)\n",
        "\n",
        "for comp in len_components:\n",
        "  components_count[comp] +=1\n",
        "\n",
        "components_count"
      ],
      "metadata": {
        "id": "C2NQrxzdqRh7",
        "colab": {
          "base_uri": "https://localhost:8080/"
        },
        "outputId": "4cd64614-ee2c-423c-eb7a-90c47d57c3e1"
      },
      "execution_count": null,
      "outputs": [
        {
          "output_type": "execute_result",
          "data": {
            "text/plain": [
              "defaultdict(int, {5503: 1, 2: 35, 3: 3, 4: 1})"
            ]
          },
          "metadata": {},
          "execution_count": 24
        }
      ]
    },
    {
      "cell_type": "code",
      "source": [
        "plt.plot(components_count.keys(),components_count.values(),'o',markersize=5,color='black')\n",
        "\n",
        "plt.xlabel('Component size')\n",
        "plt.ylabel('Number of componets')\n",
        "plt.xscale('log')\n",
        "plt.yscale('log')\n",
        "plt.show()"
      ],
      "metadata": {
        "id": "Y2scd05lIlHU",
        "colab": {
          "base_uri": "https://localhost:8080/",
          "height": 454
        },
        "outputId": "abe6150b-be87-4a1b-ac11-ad91d7070e9a"
      },
      "execution_count": null,
      "outputs": [
        {
          "output_type": "display_data",
          "data": {
            "text/plain": [
              "<Figure size 640x480 with 1 Axes>"
            ],
            "image/png": "[encoded data removed]"
          },
          "metadata": {}
        }
      ]
    },
    {
      "cell_type": "code",
      "source": [
        "# bridges\n",
        "\n",
        "print(nx.has_bridges(G))\n",
        "bridges = len(list(nx.bridges(G,root=None)))\n",
        "print(bridges)\n",
        "perc_bridge = bridges/G.number_of_edges()\n",
        "print(perc_bridge)"
      ],
      "metadata": {
        "colab": {
          "base_uri": "https://localhost:8080/"
        },
        "id": "proTJ-QPq7Ih",
        "outputId": "97d18ed6-ab0e-4732-aef3-a8c99c7c2836"
      },
      "execution_count": null,
      "outputs": [
        {
          "output_type": "stream",
          "name": "stdout",
          "text": [
            "True\n",
            "1374\n",
            "0.019508732074400112\n"
          ]
        }
      ]
    },
    {
      "cell_type": "code",
      "source": [
        "# how many nodes have a certain degree\n",
        "\n",
        "degrees = list(dict(G.degree()).values())\n",
        "\n",
        "degree_count = defaultdict(int)\n",
        "\n",
        "for degree in degrees:\n",
        " degree_count[degree] +=1"
      ],
      "metadata": {
        "id": "IlpjHr3YHWmy"
      },
      "execution_count": null,
      "outputs": []
    },
    {
      "cell_type": "code",
      "source": [
        "# sorting\n",
        "\n",
        "degree_count = dict(sorted(degree_count.items()))"
      ],
      "metadata": {
        "id": "hX-7zo8VUeay"
      },
      "execution_count": null,
      "outputs": []
    },
    {
      "cell_type": "code",
      "source": [
        "# dividing by 1/N\n",
        "\n",
        "p_k = []\n",
        "\n",
        "for degree in degree_count.values():\n",
        "  p_k.append(degree/sum(degree_count.values()))"
      ],
      "metadata": {
        "id": "ncOJtRlUXDHE"
      },
      "execution_count": null,
      "outputs": []
    },
    {
      "cell_type": "code",
      "source": [
        "# 1-cdf\n",
        "\n",
        "cp_k = np.cumsum(p_k)\n",
        "eccdf = [1-cumu for cumu in cp_k]"
      ],
      "metadata": {
        "id": "He_jFtOWKbW8"
      },
      "execution_count": null,
      "outputs": []
    },
    {
      "cell_type": "code",
      "source": [
        "# random model to compare\n",
        "\n",
        "random_network = nx.fast_gnp_random_graph(G.order(),density)"
      ],
      "metadata": {
        "id": "ubfQYhPloZ8S"
      },
      "execution_count": null,
      "outputs": []
    },
    {
      "cell_type": "code",
      "source": [
        "random_nodes = random_network.order()\n",
        "random_edges = random_network.size()\n",
        "print(\"Random nodes:\", random_nodes,\"\\nRandom edges:\", random_edges)"
      ],
      "metadata": {
        "colab": {
          "base_uri": "https://localhost:8080/"
        },
        "id": "Ln7abDcOorZT",
        "outputId": "f38ea22a-1f2a-4793-a821-3136e43b2d05"
      },
      "execution_count": null,
      "outputs": [
        {
          "output_type": "stream",
          "name": "stdout",
          "text": [
            "Random nodes: 5586 \n",
            "Random edges: 70976\n"
          ]
        }
      ]
    },
    {
      "cell_type": "code",
      "source": [
        "# same operations as before on the random graph\n",
        "\n",
        "random_degrees = list(dict(random_network.degree()).values())\n",
        "\n",
        "random_count = defaultdict(int)\n",
        "\n",
        "for degree in random_degrees:\n",
        " random_count[degree] +=1\n",
        "\n",
        "random_count = dict(sorted(random_count.items()))\n",
        "\n",
        "rand_p_k = []\n",
        "\n",
        "for degree in random_count.values():\n",
        "  rand_p_k.append(degree/sum(random_count.values()))\n",
        "\n",
        "rand_cp_k = np.cumsum(rand_p_k)\n",
        "rand_eccdf = [1-cumu for cumu in rand_cp_k]"
      ],
      "metadata": {
        "id": "n3zbDo8upUgH"
      },
      "execution_count": null,
      "outputs": []
    },
    {
      "cell_type": "code",
      "source": [
        "# first plot\n",
        "\n",
        "plt.plot(degree_count.keys(),p_k,'o',markersize=2,color='black')\n",
        "plt.plot(random_count.keys(),rand_p_k,'o',markersize=2,color='red')\n",
        "\n",
        "plt.title('Degree distribution of the real netowork vs a random natwork')\n",
        "plt.legend(['Real network','Random network'])\n",
        "plt.xlabel('k')\n",
        "plt.ylabel('P(k)')\n",
        "plt.xscale('log')\n",
        "plt.yscale('log')\n",
        "plt.show()"
      ],
      "metadata": {
        "colab": {
          "base_uri": "https://localhost:8080/",
          "height": 476
        },
        "id": "eelt3bOHGS0y",
        "outputId": "870d77c4-4e1e-42dc-a397-cc8e064b16fa"
      },
      "execution_count": null,
      "outputs": [
        {
          "output_type": "display_data",
          "data": {
            "text/plain": [
              "<Figure size 640x480 with 1 Axes>"
            ],
            "image/png": "[encoded data removed]"
          },
          "metadata": {}
        }
      ]
    },
    {
      "cell_type": "code",
      "source": [
        "plot_degree = list(degree_count.keys()) # otherwise problems\n",
        "rand_plot_degree = list(random_count.keys()) # otherwise problems"
      ],
      "metadata": {
        "id": "qQGCr4cQOIjT"
      },
      "execution_count": null,
      "outputs": []
    },
    {
      "cell_type": "code",
      "source": [
        "# second plot\n",
        "\n",
        "plt.plot(plot_degree[:len(plot_degree)-1],eccdf[:len(eccdf)-1],'o',markersize=2,color='black')\n",
        "\n",
        "plt.plot(rand_plot_degree[:len(rand_plot_degree)-1],rand_eccdf[:len(rand_eccdf)-1],'o',markersize=2,color='red')\n",
        "\n",
        "plt.title('ECCDF of the real netowork vs a random natwork')\n",
        "plt.legend(['Real network','Random network'])\n",
        "plt.xlabel('k')\n",
        "plt.ylabel('P(k)')\n",
        "plt.xscale('log')\n",
        "plt.yscale('log')\n",
        "plt.show()"
      ],
      "metadata": {
        "colab": {
          "base_uri": "https://localhost:8080/",
          "height": 476
        },
        "id": "gkjLG4lhywOa",
        "outputId": "79d3cc99-8954-437c-ee20-a785f27b7acb"
      },
      "execution_count": null,
      "outputs": [
        {
          "output_type": "display_data",
          "data": {
            "text/plain": [
              "<Figure size 640x480 with 1 Axes>"
            ],
            "image/png": "[encoded data removed]"
          },
          "metadata": {}
        }
      ]
    },
    {
      "cell_type": "code",
      "source": [
        "# assortativity\n",
        "\n",
        "assortativity = nx.degree_assortativity_coefficient(G)\n",
        "print(assortativity)"
      ],
      "metadata": {
        "colab": {
          "base_uri": "https://localhost:8080/"
        },
        "id": "kD3ZZSFvsmUY",
        "outputId": "6a61807c-bfab-4a45-b55b-cc9ad9acf372"
      },
      "execution_count": null,
      "outputs": [
        {
          "output_type": "stream",
          "name": "stdout",
          "text": [
            "-0.13464351282958514\n"
          ]
        }
      ]
    },
    {
      "cell_type": "code",
      "source": [
        "# transitivity - gcc and avg lcc\n",
        "\n",
        "gcc = nx.transitivity(G)\n",
        "avg_lcc = nx.average_clustering(G)\n",
        "\n",
        "print(\"Global clustering coefficient:\", gcc,\"\\nAverage local clustering coefficient:\", avg_lcc)"
      ],
      "metadata": {
        "id": "CnMefUdeIXvu",
        "colab": {
          "base_uri": "https://localhost:8080/"
        },
        "outputId": "878cd397-697e-4fbe-a2e1-199882f93439"
      },
      "execution_count": null,
      "outputs": [
        {
          "output_type": "stream",
          "name": "stdout",
          "text": [
            "Global clustering coefficient: 0.19194790824360555 \n",
            "Average local clustering coefficient: 0.3634167928162059\n"
          ]
        }
      ]
    },
    {
      "cell_type": "code",
      "source": [
        "seed = 42\n",
        "np.random.seed(seed)"
      ],
      "metadata": {
        "id": "Qh386mwhJSal"
      },
      "execution_count": null,
      "outputs": []
    },
    {
      "cell_type": "code",
      "source": [
        "#community\n",
        "\n",
        "partitions = louvain.best_partition(G) # every node and its community"
      ],
      "metadata": {
        "id": "Zcl462_92kk8"
      },
      "execution_count": null,
      "outputs": []
    },
    {
      "cell_type": "code",
      "source": [
        "list_comms = defaultdict(set)\n",
        "\n",
        "for node,comm in partitions.items():\n",
        "  list_comms[comm].add(node)"
      ],
      "metadata": {
        "id": "jE4ZdJ7j4Qzp"
      },
      "execution_count": null,
      "outputs": []
    },
    {
      "cell_type": "code",
      "source": [
        "n_comms = len(list_comms)\n",
        "n_comms"
      ],
      "metadata": {
        "colab": {
          "base_uri": "https://localhost:8080/"
        },
        "id": "TAX9S8M498JR",
        "outputId": "cdb7c8ed-404c-4a8f-e2e2-f60fc5221a20"
      },
      "execution_count": null,
      "outputs": [
        {
          "output_type": "execute_result",
          "data": {
            "text/plain": [
              "49"
            ]
          },
          "metadata": {},
          "execution_count": 42
        }
      ]
    },
    {
      "cell_type": "code",
      "source": [
        "# how many node in each community\n",
        "\n",
        "len_list_comms = defaultdict(int)\n",
        "\n",
        "for comm,set_ in list_comms.items():\n",
        "  len_list_comms[comm]=len(set_)"
      ],
      "metadata": {
        "id": "KpisDR346wkE"
      },
      "execution_count": null,
      "outputs": []
    },
    {
      "cell_type": "code",
      "source": [
        "comms_nodes = list(len_list_comms.values())\n",
        "\n",
        "avg_comm = np.mean(comms_nodes)\n",
        "min_comm = np.min(comms_nodes)\n",
        "max_comm = np.max(comms_nodes)\n",
        "\n",
        "print(\"Mean:\", avg_comm,\"\\nMinimum:\", min_comm, \"\\nMaximum:\", max_comm)"
      ],
      "metadata": {
        "colab": {
          "base_uri": "https://localhost:8080/"
        },
        "id": "Dksg6YraCzyf",
        "outputId": "6af60219-c394-4df4-938b-b4c8d792172d"
      },
      "execution_count": null,
      "outputs": [
        {
          "output_type": "stream",
          "name": "stdout",
          "text": [
            "Mean: 114.0 \n",
            "Minimum: 2 \n",
            "Maximum: 1527\n"
          ]
        }
      ]
    },
    {
      "cell_type": "code",
      "source": [
        "comms_count = defaultdict(int)\n",
        "\n",
        "for comm in comms_nodes:\n",
        "  comms_count[comm] +=1"
      ],
      "metadata": {
        "id": "wBjPOV3CECsT"
      },
      "execution_count": null,
      "outputs": []
    },
    {
      "cell_type": "code",
      "source": [
        "# sorting\n",
        "comms_count = dict(sorted(comms_count.items()))\n",
        "comms_count"
      ],
      "metadata": {
        "id": "r0cZpwSWJKzH"
      },
      "execution_count": null,
      "outputs": []
    },
    {
      "cell_type": "code",
      "source": [
        "plt.plot(comms_count.keys(),comms_count.values(),'o',markersize=3,color='black')\n",
        "\n",
        "plt.xlabel('Community size')\n",
        "plt.ylabel('Number of communities')\n",
        "plt.xscale('log')\n",
        "plt.yscale('log')\n",
        "plt.show()"
      ],
      "metadata": {
        "colab": {
          "base_uri": "https://localhost:8080/",
          "height": 454
        },
        "id": "Itl1q_ooEiDd",
        "outputId": "0ed65021-9de1-4a6f-a7d8-a9270ccae376"
      },
      "execution_count": null,
      "outputs": [
        {
          "output_type": "display_data",
          "data": {
            "text/plain": [
              "<Figure size 640x480 with 1 Axes>"
            ],
            "image/png": "[encoded data removed]"
          },
          "metadata": {}
        }
      ]
    },
    {
      "cell_type": "code",
      "source": [
        "comms_top = []\n",
        "print(top_degree)\n",
        "\n",
        "for node in top_degree: # centrality lists are the same\n",
        "  comms_top.append(partitions[node])\n",
        "\n",
        "comms_top"
      ],
      "metadata": {
        "colab": {
          "base_uri": "https://localhost:8080/"
        },
        "id": "VQoCwcicJiwn",
        "outputId": "4ac051a0-ddf9-41e5-de03-e912506a827e"
      },
      "execution_count": null,
      "outputs": [
        {
          "output_type": "stream",
          "name": "stdout",
          "text": [
            "['David Bowie', 'JAY Z', 'Coldplay', 'Radiohead', 'Queen']\n"
          ]
        },
        {
          "output_type": "execute_result",
          "data": {
            "text/plain": [
              "[3, 0, 2, 2, 3]"
            ]
          },
          "metadata": {},
          "execution_count": 50
        }
      ]
    },
    {
      "cell_type": "code",
      "source": [
        "# ML PART - NODE2VEC - RECOMMENDATION SYSTEM\n",
        "\n",
        "#DFS\n",
        "\n",
        "node2vec = Node2Vec(G,dimensions=64,walk_length=30,num_walks=500,p=2,q=1,workers=2)\n",
        "model = node2vec.fit(window=6,min_count=1,batch_words=3)\n",
        "\n",
        "def recommend(singer):\n",
        "\n",
        "  artists = []\n",
        "\n",
        "  for artist in model.wv.most_similar(str(singer))[:5]:\n",
        "      artists.append(artist)\n",
        "\n",
        "  print(artists)\n",
        "\n",
        "recommend(\"Radiohead\")\n",
        "recommend(\"Coldplay\")\n",
        "recommend(\"David Bowie\")"
      ],
      "metadata": {
        "id": "cttFDDeJez4C",
        "colab": {
          "base_uri": "https://localhost:8080/",
          "height": 121,
          "referenced_widgets": [
            "d40e0145e4414d72a114801b9d9722fe",
            "8e9f3c6dd2124ce989260e12e53730a2",
            "00c0a5f2bbd84dc0a288f4452b4334bf",
            "3a697a2c70f242daa9de7beb5bb6ab85",
            "74851d8eb79c497bbe4d0f5f43a1ac06",
            "6715c12c0ee44297847f3e6765a41d29",
            "8d18215457b1421d838765596e712400",
            "9511efeb4e244575905afe53cd75a914",
            "345aa1e5376b44a79c34bb3574ca15cf",
            "db008acc1e0941f6bb0f5b659e81e4f6",
            "17210d8e0a2b43509e8a258bced3c11b"
          ]
        },
        "outputId": "2644b4bf-7f4e-4c76-a240-34479fc61566"
      },
      "execution_count": null,
      "outputs": [
        {
          "output_type": "display_data",
          "data": {
            "text/plain": [
              "Computing transition probabilities:   0%|          | 0/5586 [00:00<?, ?it/s]"
            ],
            "application/vnd.jupyter.widget-view+json": {
              "version_major": 2,
              "version_minor": 0,
              "model_id": "d40e0145e4414d72a114801b9d9722fe"
            }
          },
          "metadata": {}
        },
        {
          "output_type": "stream",
          "name": "stdout",
          "text": [
            "[('Esther Phillips', 0.953582763671875), ('...And You Will Know Us By The Trail Of Dead', 0.9488362669944763), ('2 LIVE CREW', 0.9465721249580383), ('Zoe Keating', 0.9439899921417236), ('Irma Thomas', 0.9423037171363831)]\n",
            "[('Guru Josh Project', 0.961673378944397), ('Sr. Chinarro', 0.9594983458518982), ('The Concretes', 0.9588379859924316), ('Lisa Hannigan', 0.9586614966392517), ('Approaching Nirvana', 0.9584906697273254)]\n",
            "[('Robert Hood', 0.9599379897117615), ('Little Willie John', 0.9587134718894958), ('Patti Page', 0.9570356011390686), ('J.J. Cale', 0.956867516040802), ('Canterbury', 0.9554817080497742)]\n"
          ]
        }
      ]
    },
    {
      "cell_type": "code",
      "source": [
        "bottom_degree = list(sort_degree_centrality.keys())[-5:]"
      ],
      "metadata": {
        "id": "OaGjArY253eZ"
      },
      "execution_count": null,
      "outputs": []
    },
    {
      "cell_type": "code",
      "source": [
        "for node in bottom_degree:\n",
        "  recommend(node)"
      ],
      "metadata": {
        "colab": {
          "base_uri": "https://localhost:8080/"
        },
        "id": "pWWTIli86o2e",
        "outputId": "fa8416c5-3534-4348-d154-bfe5ea025839"
      },
      "execution_count": null,
      "outputs": [
        {
          "output_type": "stream",
          "name": "stdout",
          "text": [
            "[('50 Cent', 0.9701106548309326), ('Foxy Brown', 0.9557238817214966), ('Vybz Kartel', 0.6814218759536743), ('Demarco', 0.6760348677635193), ('Terrace Martin', 0.6757627725601196)]\n",
            "[('Rush', 0.9711724519729614), ('A Pale Horse Named Death', 0.9699565768241882), ('Hoodoo Gurus', 0.9578256607055664), ('Corrosion Of Conformity', 0.8708930015563965), ('Camel', 0.7721099853515625)]\n",
            "[('Daryl Hall & John Oates', 0.9732545614242554), ('Brian May', 0.8343746066093445), ('Black Star', 0.6060977578163147), ('Smash Mouth', 0.5456985831260681), ('Alphaville', 0.5416000485420227)]\n",
            "[('Kendrick Lamar', 0.9664266109466553), ('Evidence', 0.9616841673851013), ('Ryuichi Sakamoto', 0.9576336145401001), ('Autre Ne Veut', 0.9554238319396973), ('Mark Kozelek', 0.9504005312919617)]\n",
            "[('Ojos de Brujo', 0.9669814705848694), ('The Smashing Pumpkins', 0.9622058272361755), ('Animals As Leaders', 0.9570116400718689), (\"K's Choice\", 0.9551040530204773), ('Andy Williams', 0.9413436055183411)]\n"
          ]
        }
      ]
    },
    {
      "cell_type": "code",
      "source": [
        "# ML PART - NODE2VEC - RECOMMENDATION SYSTEM\n",
        "\n",
        "# BFS\n",
        "\n",
        "node2vec = Node2Vec(G,dimensions=64,walk_length=30,num_walks=500,p=1,q=2,workers=2)\n",
        "model = node2vec.fit(window=6,min_count=1,batch_words=3)\n",
        "\n",
        "def recommend(singer):\n",
        "\n",
        "  artists = []\n",
        "\n",
        "  for artist in model.wv.most_similar(str(singer))[:5]:\n",
        "      artists.append(artist)\n",
        "\n",
        "  print(artists)\n",
        "\n",
        "recommend(\"Radiohead\")\n",
        "recommend(\"Coldplay\")\n",
        "recommend(\"David Bowie\")\n",
        "\n",
        "bottom_degree = list(sort_degree_centrality.keys())[-5:]\n",
        "for node in bottom_degree:\n",
        "  recommend(node)"
      ],
      "metadata": {
        "colab": {
          "base_uri": "https://localhost:8080/",
          "height": 208,
          "referenced_widgets": [
            "84feec9d82394442ac683e21cd17830d",
            "3701cf3b85124096af411b3a5f2cd02f",
            "dad3ad61cb75464eba8e7973346304ca",
            "bf50c9722ec14cc3842612a476d0d954",
            "68104d2f74fc4d3684af4a0babd84e71",
            "1b1ca91a495a489e87b4c928801b862b",
            "c57ae67a6ca04167835bf496ecba0720",
            "00a9c85e77b749148883e9f9674e6447",
            "961d98b180f4452aa45d9aeab562d413",
            "a5168a1ad44b43a48aff02be658a7900",
            "04b0eda75ff741b597e047812c13b9d6"
          ]
        },
        "id": "kD0Ci7rvBh6K",
        "outputId": "58d9ccf0-2068-439d-b466-7e5163b352a2"
      },
      "execution_count": 12,
      "outputs": [
        {
          "output_type": "display_data",
          "data": {
            "text/plain": [
              "Computing transition probabilities:   0%|          | 0/5586 [00:00<?, ?it/s]"
            ],
            "application/vnd.jupyter.widget-view+json": {
              "version_major": 2,
              "version_minor": 0,
              "model_id": "84feec9d82394442ac683e21cd17830d"
            }
          },
          "metadata": {}
        },
        {
          "output_type": "stream",
          "name": "stdout",
          "text": [
            "[('Irma Thomas', 0.9591031074523926), ('...And You Will Know Us By The Trail Of Dead', 0.9561775922775269), ('Esther Phillips', 0.9532853960990906), ('Zoe Keating', 0.9479573369026184), ('2 LIVE CREW', 0.9458306431770325)]\n",
            "[('Conor Maynard', 0.9675903916358948), ('Turisas', 0.9648023247718811), ('Seabird', 0.9618701338768005), (\"Pickin' On Series\", 0.9612242579460144), ('Sr. Chinarro', 0.9590392112731934)]\n",
            "[('Nils Petter Molvær', 0.9771271347999573), ('Frankie Goes To Hollywood', 0.9731791615486145), ('Odyssey', 0.9679949283599854), ('David Lanz', 0.965610146522522), ('Patti Page', 0.9652543067932129)]\n",
            "[('50 Cent', 0.9763683676719666), ('Foxy Brown', 0.9680736660957336), ('Terrace Martin', 0.709716796875), ('Vybz Kartel', 0.70524662733078), ('Demarco', 0.6667007207870483)]\n",
            "[('Rush', 0.968698263168335), ('Hoodoo Gurus', 0.9622723460197449), ('A Pale Horse Named Death', 0.9589534401893616), ('Corrosion Of Conformity', 0.8398126363754272), ('Camel', 0.7753439545631409)]\n",
            "[('Daryl Hall & John Oates', 0.9756596684455872), ('Brian May', 0.8069549798965454), ('Black Star', 0.6009981036186218), ('Alphaville', 0.5465703010559082), ('Ben Folds', 0.5224493741989136)]\n",
            "[('Kendrick Lamar', 0.9767102599143982), ('Evidence', 0.9619928598403931), ('Autre Ne Veut', 0.9617132544517517), ('Bell Biv DeVoe', 0.9589408040046692), ('Ryuichi Sakamoto', 0.9554958939552307)]\n",
            "[('The Smashing Pumpkins', 0.9717383980751038), ('Ojos de Brujo', 0.9671940803527832), ('Andy Williams', 0.9643516540527344), ('Animals As Leaders', 0.9643084406852722), ('Local H', 0.9570892453193665)]\n"
          ]
        }
      ]
    }
  ]
}